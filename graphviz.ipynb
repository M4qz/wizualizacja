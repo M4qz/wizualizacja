{
  "cells": [
    {
      "cell_type": "code",
      "execution_count": null,
      "metadata": {
        "id": "CWwYc--pl1jK",
        "colab": {
          "base_uri": "https://localhost:8080/"
        },
        "outputId": "6e6d82e8-09c1-4df7-9144-04d697a7dc2c"
      },
      "outputs": [
        {
          "output_type": "stream",
          "name": "stdout",
          "text": [
            "Reading package lists... Done\n",
            "Building dependency tree... Done\n",
            "Reading state information... Done\n",
            "graphviz is already the newest version (2.42.2-6).\n",
            "0 upgraded, 0 newly installed, 0 to remove and 45 not upgraded.\n",
            "Requirement already satisfied: graphviz in /usr/local/lib/python3.10/dist-packages (0.20.3)\n"
          ]
        }
      ],
      "source": [
        "!apt install -y graphviz\n",
        "!pip install graphviz\n"
      ]
    },
    {
      "cell_type": "code",
      "source": [
        "from graphviz import Digraph"
      ],
      "metadata": {
        "id": "9pPSG_25gyvg"
      },
      "execution_count": null,
      "outputs": []
    },
    {
      "cell_type": "code",
      "source": [
        "jedi = Digraph()\n",
        "\n",
        "styles = {\n",
        "    'skywalker': {'shape': 'ellipse','style': 'filled', 'color': 'darkgoldenrod1'},\n",
        "    'solo': {'shape': 'ellipse','style': 'filled', 'color': 'coral'},\n",
        "    'force': {'shape': 'ellipse','style': 'filled', 'color': 'blue'},\n",
        "    'others': {'shape': 'ellipse','style': 'filled', 'color': 'palegreen'},\n",
        "}\n",
        "\n",
        "jedi.graph_attr['label'] = 'Star Wars Family Tree'\n",
        "jedi.graph_attr['labelloc'] = 't'\n",
        "jedi.graph_attr['fontsize'] = '24'\n",
        "\n",
        "jedi.node('cliegg', 'Cleigg Lars\\n(Ojczym Anakina)', styles['others'])\n",
        "jedi.node('owen', 'Owen Lars\\n(Wujek Luke\"a)', styles['others'])\n",
        "jedi.node('bail', 'Bail Organa\\n(Książe Alderaanu)', styles['others'])\n",
        "jedi.node('breha', 'Breha Organa\\(Księżniczka Alderaanu)', styles['others'])\n",
        "jedi.node('beru', 'Beru Lars\\n(Ciocia Luke\"a)', styles['others'])\n",
        "jedi.node('cliegg_wife', 'Cleigg 1st Wife', styles['others'])\n",
        "jedi.node('shimi', 'Shimi Skywalker\\n(Matka Anakina)', styles['skywalker'])\n",
        "jedi.node('ruwee', 'Ruwee Naberrie\\n(Ojciec Padme)', styles['others'])\n",
        "jedi.node('jobal', 'Jobal Naberrie\\n(Matka Padme)', styles['others'])\n",
        "jedi.node('padme', 'Padme Amidala\\n(Księżniczka Naboo)', styles['others'])\n",
        "jedi.node('anakin', 'Anakin Skywalker\\n(Darth Vader)', styles['skywalker'])\n",
        "jedi.node('luke', 'Luke Skywalker\\n(Jedi Master)', styles['skywalker'])\n",
        "jedi.node('han', 'Han Solo\\n(Rebeliant)', styles['solo'])\n",
        "jedi.node('rey', 'Rey Skywalker\\n(Ostatni Jedi)', styles['skywalker'])\n",
        "jedi.node('ben', 'Ben Solo\\n(Kylo Ren)', styles['solo'])\n",
        "jedi.node('force', 'Force', styles['force'])\n",
        "jedi.node('leia', 'Leia Organa\\n(Księżniczka Alderaanu)', styles['skywalker'])\n",
        "\n",
        "jedi.edge('cliegg', 'owen', label='potomek')\n",
        "jedi.edge('cliegg', 'anakin', label='pasierb')\n",
        "jedi.edge('cliegg', 'shimi', label='nowe małżeństwo', arrowtail='none', dir='none')\n",
        "jedi.edge('cliegg', 'cliegg_wife', label='stare małżeństwo', arrowtail='none', dir='none')\n",
        "jedi.edge('beru', 'luke', label='adopcja')\n",
        "jedi.edge('owen', 'luke', label='adopcja')\n",
        "jedi.edge('bail', 'leia', label='adopcja')\n",
        "jedi.edge('breha', 'leia', label='adopcja')\n",
        "jedi.edge('cliegg_wife', 'owen', label='potomek')\n",
        "jedi.edge('force', 'anakin', label='potomek')\n",
        "jedi.edge('shimi', 'anakin', label='potomek')\n",
        "jedi.edge('ruwee', 'padme', label='potomek')\n",
        "jedi.edge('jobal', 'padme', label='potomek')\n",
        "jedi.edge('anakin', 'leia', label='potomek')\n",
        "jedi.edge('padme', 'leia', label='potomek')\n",
        "jedi.edge('anakin', 'luke', label='potomek')\n",
        "jedi.edge('padme', 'luke', label='potomek')\n",
        "jedi.edge('han', 'ben', label='potomek')\n",
        "jedi.edge('leia', 'ben', label='potomek')\n",
        "jedi.edge('leia', 'rey', label='mentor')\n",
        "jedi.edge('luke', 'rey', label='mentor')\n",
        "\n",
        "\n",
        "jedi.render('drzewo starwars', format='png', view=True)"
      ],
      "metadata": {
        "colab": {
          "base_uri": "https://localhost:8080/",
          "height": 35
        },
        "id": "6EOVKNa-g1s1",
        "outputId": "60b485d1-2033-4743-d5de-c6106590123b"
      },
      "execution_count": null,
      "outputs": [
        {
          "output_type": "execute_result",
          "data": {
            "text/plain": [
              "'drzewo starwars.png'"
            ],
            "application/vnd.google.colaboratory.intrinsic+json": {
              "type": "string"
            }
          },
          "metadata": {},
          "execution_count": 3
        }
      ]
    },
    {
      "cell_type": "code",
      "source": [
        "legend = Digraph(engine='dot')\n",
        "legend.graph_attr['label'] = 'Legenda Rodzin'\n",
        "jedi.graph_attr['labelloc'] = 't'\n",
        "jedi.graph_attr['fontsize'] = '24'\n",
        "legend.node('a', 'Solo', styles['solo'])\n",
        "legend.node('b', 'Force', styles['force'])\n",
        "legend.node('c', 'Inne rodziny', styles['others'])\n",
        "legend.node('d', 'Skywalker', styles['skywalker'])\n",
        "legend"
      ],
      "metadata": {
        "colab": {
          "base_uri": "https://localhost:8080/",
          "height": 111
        },
        "id": "DSi_43Hnt7nl",
        "outputId": "971d58e0-3aaa-4c52-a734-da76845a1a5d"
      },
      "execution_count": null,
      "outputs": [
        {
          "output_type": "execute_result",
          "data": {
            "image/svg+xml": "<?xml version=\"1.0\" encoding=\"UTF-8\" standalone=\"no\"?>\n<!DOCTYPE svg PUBLIC \"-//W3C//DTD SVG 1.1//EN\"\n \"http://www.w3.org/Graphics/SVG/1.1/DTD/svg11.dtd\">\n<!-- Generated by graphviz version 2.43.0 (0)\n -->\n<!-- Title: %3 Pages: 1 -->\n<svg width=\"385pt\" height=\"67pt\"\n viewBox=\"0.00 0.00 385.10 67.00\" xmlns=\"http://www.w3.org/2000/svg\" xmlns:xlink=\"http://www.w3.org/1999/xlink\">\n<g id=\"graph0\" class=\"graph\" transform=\"scale(1 1) rotate(0) translate(4 63)\">\n<title>%3</title>\n<polygon fill=\"white\" stroke=\"transparent\" points=\"-4,4 -4,-63 381.1,-63 381.1,4 -4,4\"/>\n<text text-anchor=\"middle\" x=\"188.55\" y=\"-7.8\" font-family=\"Times,serif\" font-size=\"14.00\">Legenda Rodzin</text>\n<!-- a -->\n<g id=\"node1\" class=\"node\">\n<title>a</title>\n<ellipse fill=\"coral\" stroke=\"coral\" cx=\"27\" cy=\"-41\" rx=\"27\" ry=\"18\"/>\n<text text-anchor=\"middle\" x=\"27\" y=\"-37.3\" font-family=\"Times,serif\" font-size=\"14.00\">Solo</text>\n</g>\n<!-- b -->\n<g id=\"node2\" class=\"node\">\n<title>b</title>\n<ellipse fill=\"blue\" stroke=\"blue\" cx=\"103\" cy=\"-41\" rx=\"30.59\" ry=\"18\"/>\n<text text-anchor=\"middle\" x=\"103\" y=\"-37.3\" font-family=\"Times,serif\" font-size=\"14.00\">Force</text>\n</g>\n<!-- c -->\n<g id=\"node3\" class=\"node\">\n<title>c</title>\n<ellipse fill=\"palegreen\" stroke=\"palegreen\" cx=\"207\" cy=\"-41\" rx=\"55.79\" ry=\"18\"/>\n<text text-anchor=\"middle\" x=\"207\" y=\"-37.3\" font-family=\"Times,serif\" font-size=\"14.00\">Inne rodziny</text>\n</g>\n<!-- d -->\n<g id=\"node4\" class=\"node\">\n<title>d</title>\n<ellipse fill=\"#ffb90f\" stroke=\"#ffb90f\" cx=\"329\" cy=\"-41\" rx=\"48.19\" ry=\"18\"/>\n<text text-anchor=\"middle\" x=\"329\" y=\"-37.3\" font-family=\"Times,serif\" font-size=\"14.00\">Skywalker</text>\n</g>\n</g>\n</svg>\n",
            "text/plain": [
              "<graphviz.graphs.Digraph at 0x79622c343a30>"
            ]
          },
          "metadata": {},
          "execution_count": 4
        }
      ]
    },
    {
      "cell_type": "code",
      "source": [
        "jedi\n"
      ],
      "metadata": {
        "colab": {
          "base_uri": "https://localhost:8080/",
          "height": 708
        },
        "id": "BVQhwzs7mZAI",
        "outputId": "4cbd17f5-bb6d-498e-9180-3ba26f100628"
      },
      "execution_count": null,
      "outputs": [
        {
          "output_type": "execute_result",
          "data": {
            "image/svg+xml": "<?xml version=\"1.0\" encoding=\"UTF-8\" standalone=\"no\"?>\n<!DOCTYPE svg PUBLIC \"-//W3C//DTD SVG 1.1//EN\"\n \"http://www.w3.org/Graphics/SVG/1.1/DTD/svg11.dtd\">\n<!-- Generated by graphviz version 2.43.0 (0)\n -->\n<!-- Title: %3 Pages: 1 -->\n<svg width=\"1243pt\" height=\"515pt\"\n viewBox=\"0.00 0.00 1243.08 514.70\" xmlns=\"http://www.w3.org/2000/svg\" xmlns:xlink=\"http://www.w3.org/1999/xlink\">\n<g id=\"graph0\" class=\"graph\" transform=\"scale(1 1) rotate(0) translate(4 510.7)\">\n<title>%3</title>\n<polygon fill=\"white\" stroke=\"transparent\" points=\"-4,4 -4,-510.7 1239.08,-510.7 1239.08,4 -4,4\"/>\n<text text-anchor=\"middle\" x=\"617.54\" y=\"-483.5\" font-family=\"Times,serif\" font-size=\"24.00\">Star Wars Family Tree</text>\n<!-- cliegg -->\n<g id=\"node1\" class=\"node\">\n<title>cliegg</title>\n<ellipse fill=\"palegreen\" stroke=\"palegreen\" cx=\"259.54\" cy=\"-445.83\" rx=\"83.38\" ry=\"26.74\"/>\n<text text-anchor=\"middle\" x=\"259.54\" y=\"-449.63\" font-family=\"Times,serif\" font-size=\"14.00\">Cleigg Lars</text>\n<text text-anchor=\"middle\" x=\"259.54\" y=\"-434.63\" font-family=\"Times,serif\" font-size=\"14.00\">(Ojczym Anakina)</text>\n</g>\n<!-- owen -->\n<g id=\"node2\" class=\"node\">\n<title>owen</title>\n<ellipse fill=\"palegreen\" stroke=\"palegreen\" cx=\"239.54\" cy=\"-236.35\" rx=\"74.49\" ry=\"26.74\"/>\n<text text-anchor=\"middle\" x=\"239.54\" y=\"-240.15\" font-family=\"Times,serif\" font-size=\"14.00\">Owen Lars</text>\n<text text-anchor=\"middle\" x=\"239.54\" y=\"-225.15\" font-family=\"Times,serif\" font-size=\"14.00\">(Wujek Luke&quot;a)</text>\n</g>\n<!-- cliegg&#45;&gt;owen -->\n<g id=\"edge1\" class=\"edge\">\n<title>cliegg&#45;&gt;owen</title>\n<path fill=\"none\" stroke=\"black\" d=\"M247.62,-419.13C241.48,-404.48 234.65,-385.58 231.54,-367.96 225.96,-336.36 228.98,-299.87 232.8,-273.5\"/>\n<polygon fill=\"black\" stroke=\"black\" points=\"236.26,-273.99 234.34,-263.57 229.35,-272.92 236.26,-273.99\"/>\n<text text-anchor=\"middle\" x=\"256.04\" y=\"-337.39\" font-family=\"Times,serif\" font-size=\"14.00\">potomek</text>\n</g>\n<!-- cliegg_wife -->\n<g id=\"node6\" class=\"node\">\n<title>cliegg_wife</title>\n<ellipse fill=\"palegreen\" stroke=\"palegreen\" cx=\"111.54\" cy=\"-341.09\" rx=\"66.09\" ry=\"18\"/>\n<text text-anchor=\"middle\" x=\"111.54\" y=\"-337.39\" font-family=\"Times,serif\" font-size=\"14.00\">Cleigg 1st Wife</text>\n</g>\n<!-- cliegg&#45;&gt;cliegg_wife -->\n<g id=\"edge4\" class=\"edge\">\n<title>cliegg&#45;&gt;cliegg_wife</title>\n<path fill=\"none\" stroke=\"black\" d=\"M186.95,-432.3C153.3,-424.86 118.54,-414.28 108.54,-400.96 99.69,-389.18 101.75,-372.02 105.24,-359.27\"/>\n<text text-anchor=\"middle\" x=\"156.04\" y=\"-389.76\" font-family=\"Times,serif\" font-size=\"14.00\">stare małżeństwo</text>\n</g>\n<!-- shimi -->\n<g id=\"node7\" class=\"node\">\n<title>shimi</title>\n<ellipse fill=\"#ffb90f\" stroke=\"#ffb90f\" cx=\"438.54\" cy=\"-341.09\" rx=\"78.48\" ry=\"26.74\"/>\n<text text-anchor=\"middle\" x=\"438.54\" y=\"-344.89\" font-family=\"Times,serif\" font-size=\"14.00\">Shimi Skywalker</text>\n<text text-anchor=\"middle\" x=\"438.54\" y=\"-329.89\" font-family=\"Times,serif\" font-size=\"14.00\">(Matka Anakina)</text>\n</g>\n<!-- cliegg&#45;&gt;shimi -->\n<g id=\"edge3\" class=\"edge\">\n<title>cliegg&#45;&gt;shimi</title>\n<path fill=\"none\" stroke=\"black\" d=\"M299.27,-422.03C329.13,-404.89 369.85,-381.52 399.54,-364.47\"/>\n<text text-anchor=\"middle\" x=\"409.04\" y=\"-389.76\" font-family=\"Times,serif\" font-size=\"14.00\">nowe małżeństwo</text>\n</g>\n<!-- anakin -->\n<g id=\"node11\" class=\"node\">\n<title>anakin</title>\n<ellipse fill=\"#ffb90f\" stroke=\"#ffb90f\" cx=\"438.54\" cy=\"-236.35\" rx=\"83.38\" ry=\"26.74\"/>\n<text text-anchor=\"middle\" x=\"438.54\" y=\"-240.15\" font-family=\"Times,serif\" font-size=\"14.00\">Anakin Skywalker</text>\n<text text-anchor=\"middle\" x=\"438.54\" y=\"-225.15\" font-family=\"Times,serif\" font-size=\"14.00\">(Darth Vader)</text>\n</g>\n<!-- cliegg&#45;&gt;anakin -->\n<g id=\"edge2\" class=\"edge\">\n<title>cliegg&#45;&gt;anakin</title>\n<path fill=\"none\" stroke=\"black\" d=\"M264.65,-418.96C271.35,-390.6 285.43,-345.04 311.54,-314.22 329.93,-292.51 356.07,-275.23 379.87,-262.59\"/>\n<polygon fill=\"black\" stroke=\"black\" points=\"381.55,-265.66 388.85,-257.98 378.36,-259.43 381.55,-265.66\"/>\n<text text-anchor=\"middle\" x=\"331.54\" y=\"-337.39\" font-family=\"Times,serif\" font-size=\"14.00\">pasierb</text>\n</g>\n<!-- luke -->\n<g id=\"node12\" class=\"node\">\n<title>luke</title>\n<ellipse fill=\"#ffb90f\" stroke=\"#ffb90f\" cx=\"427.54\" cy=\"-131.61\" rx=\"74.91\" ry=\"26.74\"/>\n<text text-anchor=\"middle\" x=\"427.54\" y=\"-135.41\" font-family=\"Times,serif\" font-size=\"14.00\">Luke Skywalker</text>\n<text text-anchor=\"middle\" x=\"427.54\" y=\"-120.41\" font-family=\"Times,serif\" font-size=\"14.00\">(Jedi Master)</text>\n</g>\n<!-- owen&#45;&gt;luke -->\n<g id=\"edge6\" class=\"edge\">\n<title>owen&#45;&gt;luke</title>\n<path fill=\"none\" stroke=\"black\" d=\"M279.41,-213.56C308.35,-197.75 347.67,-176.26 378.53,-159.39\"/>\n<polygon fill=\"black\" stroke=\"black\" points=\"380.31,-162.41 387.4,-154.54 376.95,-156.27 380.31,-162.41\"/>\n<text text-anchor=\"middle\" x=\"366.04\" y=\"-180.28\" font-family=\"Times,serif\" font-size=\"14.00\">adopcja</text>\n</g>\n<!-- bail -->\n<g id=\"node3\" class=\"node\">\n<title>bail</title>\n<ellipse fill=\"palegreen\" stroke=\"palegreen\" cx=\"835.54\" cy=\"-236.35\" rx=\"86.03\" ry=\"26.74\"/>\n<text text-anchor=\"middle\" x=\"835.54\" y=\"-240.15\" font-family=\"Times,serif\" font-size=\"14.00\">Bail Organa</text>\n<text text-anchor=\"middle\" x=\"835.54\" y=\"-225.15\" font-family=\"Times,serif\" font-size=\"14.00\">(Książe Alderaanu)</text>\n</g>\n<!-- leia -->\n<g id=\"node17\" class=\"node\">\n<title>leia</title>\n<ellipse fill=\"#ffb90f\" stroke=\"#ffb90f\" cx=\"643.54\" cy=\"-131.61\" rx=\"106.55\" ry=\"26.74\"/>\n<text text-anchor=\"middle\" x=\"643.54\" y=\"-135.41\" font-family=\"Times,serif\" font-size=\"14.00\">Leia Organa</text>\n<text text-anchor=\"middle\" x=\"643.54\" y=\"-120.41\" font-family=\"Times,serif\" font-size=\"14.00\">(Księżniczka Alderaanu)</text>\n</g>\n<!-- bail&#45;&gt;leia -->\n<g id=\"edge7\" class=\"edge\">\n<title>bail&#45;&gt;leia</title>\n<path fill=\"none\" stroke=\"black\" d=\"M793.4,-212.8C764.87,-197.54 726.95,-177.24 696.39,-160.89\"/>\n<polygon fill=\"black\" stroke=\"black\" points=\"698.04,-157.81 687.58,-156.17 694.74,-163.98 698.04,-157.81\"/>\n<text text-anchor=\"middle\" x=\"772.04\" y=\"-180.28\" font-family=\"Times,serif\" font-size=\"14.00\">adopcja</text>\n</g>\n<!-- breha -->\n<g id=\"node4\" class=\"node\">\n<title>breha</title>\n<ellipse fill=\"palegreen\" stroke=\"palegreen\" cx=\"1087.54\" cy=\"-236.35\" rx=\"147.57\" ry=\"18\"/>\n<text text-anchor=\"middle\" x=\"1087.54\" y=\"-232.65\" font-family=\"Times,serif\" font-size=\"14.00\">Breha Organa(Księżniczka Alderaanu)</text>\n</g>\n<!-- breha&#45;&gt;leia -->\n<g id=\"edge8\" class=\"edge\">\n<title>breha&#45;&gt;leia</title>\n<path fill=\"none\" stroke=\"black\" d=\"M1022.03,-220.19C944.64,-202.28 815.64,-172.43 730.09,-152.64\"/>\n<polygon fill=\"black\" stroke=\"black\" points=\"730.67,-149.18 720.14,-150.33 729.09,-156 730.67,-149.18\"/>\n<text text-anchor=\"middle\" x=\"913.04\" y=\"-180.28\" font-family=\"Times,serif\" font-size=\"14.00\">adopcja</text>\n</g>\n<!-- beru -->\n<g id=\"node5\" class=\"node\">\n<title>beru</title>\n<ellipse fill=\"palegreen\" stroke=\"palegreen\" cx=\"73.54\" cy=\"-236.35\" rx=\"73.58\" ry=\"26.74\"/>\n<text text-anchor=\"middle\" x=\"73.54\" y=\"-240.15\" font-family=\"Times,serif\" font-size=\"14.00\">Beru Lars</text>\n<text text-anchor=\"middle\" x=\"73.54\" y=\"-225.15\" font-family=\"Times,serif\" font-size=\"14.00\">(Ciocia Luke&quot;a)</text>\n</g>\n<!-- beru&#45;&gt;luke -->\n<g id=\"edge5\" class=\"edge\">\n<title>beru&#45;&gt;luke</title>\n<path fill=\"none\" stroke=\"black\" d=\"M127.95,-218.17C137.46,-215.23 147.28,-212.24 156.54,-209.48 225.38,-188.99 304.42,-166.71 359.3,-151.44\"/>\n<polygon fill=\"black\" stroke=\"black\" points=\"360.57,-154.72 369.26,-148.67 358.69,-147.98 360.57,-154.72\"/>\n<text text-anchor=\"middle\" x=\"289.04\" y=\"-180.28\" font-family=\"Times,serif\" font-size=\"14.00\">adopcja</text>\n</g>\n<!-- cliegg_wife&#45;&gt;owen -->\n<g id=\"edge9\" class=\"edge\">\n<title>cliegg_wife&#45;&gt;owen</title>\n<path fill=\"none\" stroke=\"black\" d=\"M120.92,-323.22C128.66,-310.46 140.6,-293.16 154.54,-281.22 162.94,-274.03 172.72,-267.6 182.6,-262.04\"/>\n<polygon fill=\"black\" stroke=\"black\" points=\"184.51,-264.99 191.66,-257.18 181.2,-258.82 184.51,-264.99\"/>\n<text text-anchor=\"middle\" x=\"179.04\" y=\"-285.02\" font-family=\"Times,serif\" font-size=\"14.00\">potomek</text>\n</g>\n<!-- shimi&#45;&gt;anakin -->\n<g id=\"edge11\" class=\"edge\">\n<title>shimi&#45;&gt;anakin</title>\n<path fill=\"none\" stroke=\"black\" d=\"M438.54,-314.16C438.54,-301.88 438.54,-286.99 438.54,-273.6\"/>\n<polygon fill=\"black\" stroke=\"black\" points=\"442.04,-273.27 438.54,-263.27 435.04,-273.27 442.04,-273.27\"/>\n<text text-anchor=\"middle\" x=\"463.04\" y=\"-285.02\" font-family=\"Times,serif\" font-size=\"14.00\">potomek</text>\n</g>\n<!-- ruwee -->\n<g id=\"node8\" class=\"node\">\n<title>ruwee</title>\n<ellipse fill=\"palegreen\" stroke=\"palegreen\" cx=\"850.54\" cy=\"-341.09\" rx=\"74.49\" ry=\"26.74\"/>\n<text text-anchor=\"middle\" x=\"850.54\" y=\"-344.89\" font-family=\"Times,serif\" font-size=\"14.00\">Ruwee Naberrie</text>\n<text text-anchor=\"middle\" x=\"850.54\" y=\"-329.89\" font-family=\"Times,serif\" font-size=\"14.00\">(Ojciec Padme)</text>\n</g>\n<!-- padme -->\n<g id=\"node10\" class=\"node\">\n<title>padme</title>\n<ellipse fill=\"palegreen\" stroke=\"palegreen\" cx=\"638.54\" cy=\"-236.35\" rx=\"92.76\" ry=\"26.74\"/>\n<text text-anchor=\"middle\" x=\"638.54\" y=\"-240.15\" font-family=\"Times,serif\" font-size=\"14.00\">Padme Amidala</text>\n<text text-anchor=\"middle\" x=\"638.54\" y=\"-225.15\" font-family=\"Times,serif\" font-size=\"14.00\">(Księżniczka Naboo)</text>\n</g>\n<!-- ruwee&#45;&gt;padme -->\n<g id=\"edge12\" class=\"edge\">\n<title>ruwee&#45;&gt;padme</title>\n<path fill=\"none\" stroke=\"black\" d=\"M807.38,-319.18C774.71,-303.34 729.57,-281.46 694.18,-264.32\"/>\n<polygon fill=\"black\" stroke=\"black\" points=\"695.47,-261.05 684.94,-259.84 692.42,-267.35 695.47,-261.05\"/>\n<text text-anchor=\"middle\" x=\"781.04\" y=\"-285.02\" font-family=\"Times,serif\" font-size=\"14.00\">potomek</text>\n</g>\n<!-- jobal -->\n<g id=\"node9\" class=\"node\">\n<title>jobal</title>\n<ellipse fill=\"palegreen\" stroke=\"palegreen\" cx=\"686.54\" cy=\"-341.09\" rx=\"72.25\" ry=\"26.74\"/>\n<text text-anchor=\"middle\" x=\"686.54\" y=\"-344.89\" font-family=\"Times,serif\" font-size=\"14.00\">Jobal Naberrie</text>\n<text text-anchor=\"middle\" x=\"686.54\" y=\"-329.89\" font-family=\"Times,serif\" font-size=\"14.00\">(Matka Padme)</text>\n</g>\n<!-- jobal&#45;&gt;padme -->\n<g id=\"edge13\" class=\"edge\">\n<title>jobal&#45;&gt;padme</title>\n<path fill=\"none\" stroke=\"black\" d=\"M674.55,-314.43C668.59,-301.68 661.31,-286.09 654.85,-272.27\"/>\n<polygon fill=\"black\" stroke=\"black\" points=\"657.95,-270.62 650.54,-263.04 651.6,-273.58 657.95,-270.62\"/>\n<text text-anchor=\"middle\" x=\"689.04\" y=\"-285.02\" font-family=\"Times,serif\" font-size=\"14.00\">potomek</text>\n</g>\n<!-- padme&#45;&gt;luke -->\n<g id=\"edge17\" class=\"edge\">\n<title>padme&#45;&gt;luke</title>\n<path fill=\"none\" stroke=\"black\" d=\"M605.87,-211.01C589.52,-199.55 569.08,-186.28 549.54,-176.48 531.72,-167.55 511.63,-159.54 492.97,-152.89\"/>\n<polygon fill=\"black\" stroke=\"black\" points=\"493.96,-149.53 483.36,-149.54 491.65,-156.14 493.96,-149.53\"/>\n<text text-anchor=\"middle\" x=\"599.04\" y=\"-180.28\" font-family=\"Times,serif\" font-size=\"14.00\">potomek</text>\n</g>\n<!-- padme&#45;&gt;leia -->\n<g id=\"edge15\" class=\"edge\">\n<title>padme&#45;&gt;leia</title>\n<path fill=\"none\" stroke=\"black\" d=\"M639.8,-209.42C640.4,-197.14 641.12,-182.25 641.77,-168.86\"/>\n<polygon fill=\"black\" stroke=\"black\" points=\"645.29,-168.69 642.28,-158.53 638.3,-168.35 645.29,-168.69\"/>\n<text text-anchor=\"middle\" x=\"665.04\" y=\"-180.28\" font-family=\"Times,serif\" font-size=\"14.00\">potomek</text>\n</g>\n<!-- anakin&#45;&gt;luke -->\n<g id=\"edge16\" class=\"edge\">\n<title>anakin&#45;&gt;luke</title>\n<path fill=\"none\" stroke=\"black\" d=\"M431.72,-209.53C430.42,-203.63 429.25,-197.37 428.54,-191.48 427.64,-184.09 427.18,-176.13 426.97,-168.53\"/>\n<polygon fill=\"black\" stroke=\"black\" points=\"430.47,-168.43 426.82,-158.48 423.47,-168.53 430.47,-168.43\"/>\n<text text-anchor=\"middle\" x=\"453.04\" y=\"-180.28\" font-family=\"Times,serif\" font-size=\"14.00\">potomek</text>\n</g>\n<!-- anakin&#45;&gt;leia -->\n<g id=\"edge14\" class=\"edge\">\n<title>anakin&#45;&gt;leia</title>\n<path fill=\"none\" stroke=\"black\" d=\"M459.98,-210.17C471.06,-198.51 485.41,-185.31 500.54,-176.48 517.15,-166.78 536.13,-159.02 554.7,-152.89\"/>\n<polygon fill=\"black\" stroke=\"black\" points=\"555.89,-156.18 564.37,-149.83 553.78,-149.51 555.89,-156.18\"/>\n<text text-anchor=\"middle\" x=\"525.04\" y=\"-180.28\" font-family=\"Times,serif\" font-size=\"14.00\">potomek</text>\n</g>\n<!-- rey -->\n<g id=\"node14\" class=\"node\">\n<title>rey</title>\n<ellipse fill=\"#ffb90f\" stroke=\"#ffb90f\" cx=\"523.54\" cy=\"-26.87\" rx=\"70.92\" ry=\"26.74\"/>\n<text text-anchor=\"middle\" x=\"523.54\" y=\"-30.67\" font-family=\"Times,serif\" font-size=\"14.00\">Rey Skywalker</text>\n<text text-anchor=\"middle\" x=\"523.54\" y=\"-15.67\" font-family=\"Times,serif\" font-size=\"14.00\">(Ostatni Jedi)</text>\n</g>\n<!-- luke&#45;&gt;rey -->\n<g id=\"edge21\" class=\"edge\">\n<title>luke&#45;&gt;rey</title>\n<path fill=\"none\" stroke=\"black\" d=\"M450.53,-106C463.38,-92.25 479.55,-74.95 493.4,-60.13\"/>\n<polygon fill=\"black\" stroke=\"black\" points=\"496.13,-62.33 500.4,-52.63 491.01,-57.55 496.13,-62.33\"/>\n<text text-anchor=\"middle\" x=\"500.54\" y=\"-75.54\" font-family=\"Times,serif\" font-size=\"14.00\">mentor</text>\n</g>\n<!-- han -->\n<g id=\"node13\" class=\"node\">\n<title>han</title>\n<ellipse fill=\"coral\" stroke=\"coral\" cx=\"822.54\" cy=\"-131.61\" rx=\"54.39\" ry=\"26.74\"/>\n<text text-anchor=\"middle\" x=\"822.54\" y=\"-135.41\" font-family=\"Times,serif\" font-size=\"14.00\">Han Solo</text>\n<text text-anchor=\"middle\" x=\"822.54\" y=\"-120.41\" font-family=\"Times,serif\" font-size=\"14.00\">(Rebeliant)</text>\n</g>\n<!-- ben -->\n<g id=\"node15\" class=\"node\">\n<title>ben</title>\n<ellipse fill=\"coral\" stroke=\"coral\" cx=\"732.54\" cy=\"-26.87\" rx=\"55.31\" ry=\"26.74\"/>\n<text text-anchor=\"middle\" x=\"732.54\" y=\"-30.67\" font-family=\"Times,serif\" font-size=\"14.00\">Ben Solo</text>\n<text text-anchor=\"middle\" x=\"732.54\" y=\"-15.67\" font-family=\"Times,serif\" font-size=\"14.00\">(Kylo Ren)</text>\n</g>\n<!-- han&#45;&gt;ben -->\n<g id=\"edge18\" class=\"edge\">\n<title>han&#45;&gt;ben</title>\n<path fill=\"none\" stroke=\"black\" d=\"M801.67,-106.78C789.37,-92.75 773.67,-74.82 760.34,-59.6\"/>\n<polygon fill=\"black\" stroke=\"black\" points=\"762.83,-57.14 753.61,-51.93 757.57,-61.75 762.83,-57.14\"/>\n<text text-anchor=\"middle\" x=\"807.04\" y=\"-75.54\" font-family=\"Times,serif\" font-size=\"14.00\">potomek</text>\n</g>\n<!-- force -->\n<g id=\"node16\" class=\"node\">\n<title>force</title>\n<ellipse fill=\"blue\" stroke=\"blue\" cx=\"565.54\" cy=\"-341.09\" rx=\"30.59\" ry=\"18\"/>\n<text text-anchor=\"middle\" x=\"565.54\" y=\"-337.39\" font-family=\"Times,serif\" font-size=\"14.00\">Force</text>\n</g>\n<!-- force&#45;&gt;anakin -->\n<g id=\"edge10\" class=\"edge\">\n<title>force&#45;&gt;anakin</title>\n<path fill=\"none\" stroke=\"black\" d=\"M548.15,-326.02C529.71,-311.11 500.04,-287.1 476.21,-267.82\"/>\n<polygon fill=\"black\" stroke=\"black\" points=\"478.35,-265.06 468.38,-261.49 473.95,-270.5 478.35,-265.06\"/>\n<text text-anchor=\"middle\" x=\"534.04\" y=\"-285.02\" font-family=\"Times,serif\" font-size=\"14.00\">potomek</text>\n</g>\n<!-- leia&#45;&gt;rey -->\n<g id=\"edge20\" class=\"edge\">\n<title>leia&#45;&gt;rey</title>\n<path fill=\"none\" stroke=\"black\" d=\"M614.49,-105.74C597.89,-91.53 576.93,-73.58 559.32,-58.51\"/>\n<polygon fill=\"black\" stroke=\"black\" points=\"561.37,-55.65 551.49,-51.8 556.81,-60.97 561.37,-55.65\"/>\n<text text-anchor=\"middle\" x=\"610.54\" y=\"-75.54\" font-family=\"Times,serif\" font-size=\"14.00\">mentor</text>\n</g>\n<!-- leia&#45;&gt;ben -->\n<g id=\"edge19\" class=\"edge\">\n<title>leia&#45;&gt;ben</title>\n<path fill=\"none\" stroke=\"black\" d=\"M665.54,-105.21C677.44,-91.48 692.25,-74.38 704.92,-59.75\"/>\n<polygon fill=\"black\" stroke=\"black\" points=\"707.81,-61.77 711.71,-51.92 702.52,-57.18 707.81,-61.77\"/>\n<text text-anchor=\"middle\" x=\"717.04\" y=\"-75.54\" font-family=\"Times,serif\" font-size=\"14.00\">potomek</text>\n</g>\n</g>\n</svg>\n",
            "text/plain": [
              "<graphviz.graphs.Digraph at 0x79622c3416f0>"
            ]
          },
          "metadata": {},
          "execution_count": 5
        }
      ]
    }
  ],
  "metadata": {
    "colab": {
      "provenance": []
    },
    "kernelspec": {
      "display_name": "Python 3",
      "name": "python3"
    },
    "language_info": {
      "name": "python"
    }
  },
  "nbformat": 4,
  "nbformat_minor": 0
}